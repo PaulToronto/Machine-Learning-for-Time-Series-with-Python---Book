{
  "nbformat": 4,
  "nbformat_minor": 0,
  "metadata": {
    "colab": {
      "provenance": [],
      "toc_visible": true,
      "authorship_tag": "ABX9TyP7KIQEFULjkcvrfonOh8mE",
      "include_colab_link": true
    },
    "kernelspec": {
      "name": "python3",
      "display_name": "Python 3"
    },
    "language_info": {
      "name": "python"
    }
  },
  "cells": [
    {
      "cell_type": "markdown",
      "metadata": {
        "id": "view-in-github",
        "colab_type": "text"
      },
      "source": [
        "<a href=\"https://colab.research.google.com/github/PaulToronto/Machine-Learning-for-Time-Series-with-Python---Book/blob/main/1_Introduction_to_Time_Series_with_Python.ipynb\" target=\"_parent\"><img src=\"https://colab.research.google.com/assets/colab-badge.svg\" alt=\"Open In Colab\"/></a>"
      ]
    },
    {
      "cell_type": "markdown",
      "source": [
        "# 1 - Introduction to Time-Series with Python"
      ],
      "metadata": {
        "id": "IYT4P7rGeSWQ"
      }
    },
    {
      "cell_type": "markdown",
      "source": [
        "## What is a Time-Series?"
      ],
      "metadata": {
        "id": "Q7H8NQgmesPk"
      }
    },
    {
      "cell_type": "markdown",
      "source": [
        "### Some defintions\n",
        "\n",
        "- **Time-Series** are datasets where observations are arranged in chronological order.\n",
        "- **Stochastic process** is a process that is randomly determinded, having a random probability distribution or pattern thabn may be analyzed statistically but my not be predicted precisely. A time-series can be thought of as the result of a stochastic process\n",
        "- Formally, a time-series can be defined in two ways:\n",
        "\n",
        "### Time-Series as a mapping from the time domain to the domain of real numbers\n",
        "\n",
        "$$\n",
        "x:T \\rightarrow \\mathbb{R}^{k}\n",
        "$$\n",
        "\n",
        "where $T \\subseteq \\mathbb{R}$ and $k \\in \\mathbb{N}$.\n",
        "\n",
        "### Time-Series as a stochastic process\n",
        "\n",
        "$$\n",
        "\\{X_{t}\\}_{t \\in T}\n",
        "$$\n",
        "\n",
        "Here, $X\\left(t\\right)$ or $X_t$ denotes the value of the random variable $X$ at time point $t$.\n",
        "\n",
        "If $T$ is a set of real numbers, its a **continuous-time stochastic process**. If $T$ is a set of integers, we call it a **stochastic process in discrete time**. The convention in the latter is to write $\\{X_n\\}$.\n",
        "\n",
        "An important part of working with time-series is the question of how the future can be predicted based on the past. This is called **forecasting**.\n",
        "\n",
        "Some methods allow adding business cylces as additional features. These additional features are called **exogenous** features. They are time-dependent, explanatory variables."
      ],
      "metadata": {
        "id": "9fOa4TYzeyjh"
      }
    },
    {
      "cell_type": "markdown",
      "source": [
        "## Characteristics of Time-Series\n",
        "\n",
        "- The **index** of a time-series dataset is a date column\n",
        "    - The **period** could be month, but it could also be day, year, etc.\n",
        "- Time-series mostly come as discrete-time, where the time difference between each point is the same\n",
        "- The most important characteristics of time-series are the following\n",
        "  1. Long-term movements of the values (**trend**)\n",
        "    - Example: Global surface temperature over the last 50 years is increasing due to climate change\n",
        "  2. Seasonal variations (**seasonality**)\n",
        "    - Variation that occurs at specific regular intervals\n",
        "    - Can be daily, weekly, montly or yearly\n",
        "    - Ice cream sales might pick up on the weekend\n",
        "  3. Irregular or cyclic components\n",
        "    - Cyclic variablility that's irregular, like bank holidays\n",
        "- **Stationarity** is the property of a time-series not to change its distribution over time as described by its summary statistics\n",
        "    - If a time-series is **stationary** that means it has no trend and no deterministic seasonal variablity, but other cyclical variability is permitted"
      ],
      "metadata": {
        "id": "Hbi7e-kYi9be"
      }
    }
  ]
}